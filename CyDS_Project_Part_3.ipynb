{
 "cells": [
  {
   "cell_type": "code",
   "execution_count": 1,
   "id": "9d491ff8",
   "metadata": {},
   "outputs": [
    {
     "name": "stderr",
     "output_type": "stream",
     "text": [
      "C:\\Users\\usha kiran.k\\AppData\\Roaming\\Python\\Python310\\site-packages\\pandas\\core\\arrays\\masked.py:61: UserWarning: Pandas requires version '1.3.6' or newer of 'bottleneck' (version '1.3.5' currently installed).\n",
      "  from pandas.core import (\n"
     ]
    }
   ],
   "source": [
    "import torch\n",
    "import torch.nn as nn\n",
    "import torch.optim as optim\n",
    "from torch.utils.data import Dataset, DataLoader\n",
    "import pandas as pd\n",
    "import numpy as np\n",
    "import matplotlib.pyplot as plt\n",
    "from sklearn.metrics import accuracy_score, precision_recall_fscore_support\n",
    "import re\n",
    "import pickle\n",
    "from collections import Counter"
   ]
  },
  {
   "cell_type": "code",
   "execution_count": 2,
   "id": "39d7b655",
   "metadata": {},
   "outputs": [],
   "source": [
    "def tokenize_code(code):\n",
    "    return re.findall(r'\\w+|\\S', str(code))\n",
    "\n",
    "def build_vocab(all_codes, max_vocab_size=10000):\n",
    "    counter = Counter()\n",
    "    for code in all_codes:\n",
    "        tokens = tokenize_code(code)\n",
    "        counter.update(tokens)\n",
    "\n",
    "    vocab = {'<PAD>': 0, '<UNK>': 1}\n",
    "    for i, (token, _) in enumerate(counter.most_common(max_vocab_size - 2), 2):\n",
    "        vocab[token] = i\n",
    "\n",
    "    # Save vocab for later use\n",
    "    with open(\"vocab.pkl\", \"wb\") as f:\n",
    "        pickle.dump(vocab, f)\n",
    "\n",
    "    return vocab\n",
    "\n",
    "def encode_code(code, vocab, max_length=300):\n",
    "    tokens = tokenize_code(code)\n",
    "    indices = [vocab.get(token, vocab['<UNK>']) for token in tokens]\n",
    "    return indices[:max_length]"
   ]
  },
  {
   "cell_type": "code",
   "execution_count": 3,
   "id": "c4d02784",
   "metadata": {},
   "outputs": [],
   "source": [
    "class CodeDataset(Dataset):\n",
    "    def __init__(self, dataframe, vocab, max_length=300):\n",
    "        self.codes = dataframe['code'].tolist()\n",
    "        self.labels = dataframe['label'].tolist()\n",
    "        self.vocab = vocab\n",
    "        self.max_length = max_length\n",
    "\n",
    "    def __len__(self):\n",
    "        return len(self.codes)\n",
    "\n",
    "    def __getitem__(self, idx):\n",
    "        code = self.codes[idx]\n",
    "        label = self.labels[idx]\n",
    "        encoded = encode_code(code, self.vocab, self.max_length)\n",
    "        return torch.tensor(encoded), torch.tensor(label)\n",
    "\n",
    "def pad_collate(batch):\n",
    "    codes, labels = zip(*batch)\n",
    "    padded_codes = nn.utils.rnn.pad_sequence(codes, batch_first=True, padding_value=0)\n",
    "    return padded_codes, torch.tensor(labels)\n"
   ]
  },
  {
   "cell_type": "code",
   "execution_count": 4,
   "id": "bd858a0a",
   "metadata": {},
   "outputs": [],
   "source": [
    "class RNNClassifier(nn.Module):\n",
    "    def __init__(self, vocab_size, embedding_dim=128, hidden_dim=64):\n",
    "        super().__init__()\n",
    "        self.embedding = nn.Embedding(vocab_size, embedding_dim, padding_idx=0)\n",
    "        self.rnn = nn.RNN(embedding_dim, hidden_dim, batch_first=True)\n",
    "        self.fc = nn.Linear(hidden_dim, 1)\n",
    "        self.sigmoid = nn.Sigmoid()\n",
    "\n",
    "    def forward(self, x):\n",
    "        x = self.embedding(x)\n",
    "        _, hidden = self.rnn(x)\n",
    "        out = self.fc(hidden.squeeze(0))\n",
    "        return self.sigmoid(out)"
   ]
  },
  {
   "cell_type": "code",
   "execution_count": 10,
   "id": "5ee129bd",
   "metadata": {},
   "outputs": [],
   "source": [
    "def train_model(model, train_loader, val_loader=None, epochs=30, lr=0.001):\n",
    "    optimizer = optim.Adam(model.parameters(), lr=lr)\n",
    "    criterion = nn.BCELoss()\n",
    "    train_losses = []\n",
    "\n",
    "    for epoch in range(epochs):\n",
    "        model.train()\n",
    "        epoch_loss = 0\n",
    "        for x_batch, y_batch in train_loader:\n",
    "            x_batch, y_batch = x_batch.long(), y_batch.float().unsqueeze(1)\n",
    "            optimizer.zero_grad()\n",
    "            preds = model(x_batch)\n",
    "            loss = criterion(preds, y_batch)\n",
    "            loss.backward()\n",
    "            optimizer.step()\n",
    "            epoch_loss += loss.item()\n",
    "\n",
    "        train_losses.append(epoch_loss / len(train_loader))\n",
    "        print(f\"Epoch {epoch+1} | Train Loss: {train_losses[-1]:.4f}\")\n",
    "\n",
    "    # Plot only training loss\n",
    "    plt.plot(train_losses, label='Train Loss')\n",
    "    plt.xlabel(\"Epoch\")\n",
    "    plt.ylabel(\"Loss\")\n",
    "    plt.title(\"Training Loss Over Epochs\")\n",
    "    plt.legend()\n",
    "    plt.show()\n",
    "\n"
   ]
  },
  {
   "cell_type": "code",
   "execution_count": 11,
   "id": "e794aae0",
   "metadata": {},
   "outputs": [],
   "source": [
    "def evaluate_model(model, loader):\n",
    "    model.eval()\n",
    "    y_true, y_pred = [], []\n",
    "    with torch.no_grad():\n",
    "        for x_batch, y_batch in loader:\n",
    "            x_batch = x_batch.long()\n",
    "            preds = model(x_batch).squeeze()\n",
    "            preds = torch.round(preds)\n",
    "            y_pred.extend(preds.tolist())\n",
    "            y_true.extend(y_batch.tolist())\n",
    "\n",
    "    acc = accuracy_score(y_true, y_pred)\n",
    "    p, r, f1, _ = precision_recall_fscore_support(y_true, y_pred, average='binary')\n",
    "    print(f\"\\nAccuracy: {acc:.4f} | Precision: {p:.4f} | Recall: {r:.4f} | F1 Score: {f1:.4f}\")\n"
   ]
  },
  {
   "cell_type": "code",
   "execution_count": 12,
   "id": "2b3a611d",
   "metadata": {},
   "outputs": [
    {
     "name": "stdout",
     "output_type": "stream",
     "text": [
      "Epoch 1 | Train Loss: 0.6969\n",
      "Epoch 2 | Train Loss: 0.6601\n",
      "Epoch 3 | Train Loss: 0.6411\n",
      "Epoch 4 | Train Loss: 0.6220\n",
      "Epoch 5 | Train Loss: 0.6042\n",
      "Epoch 6 | Train Loss: 0.5853\n",
      "Epoch 7 | Train Loss: 0.5643\n",
      "Epoch 8 | Train Loss: 0.5384\n",
      "Epoch 9 | Train Loss: 0.5295\n",
      "Epoch 10 | Train Loss: 0.5099\n",
      "Epoch 11 | Train Loss: 0.5146\n",
      "Epoch 12 | Train Loss: 0.5333\n",
      "Epoch 13 | Train Loss: 0.5074\n",
      "Epoch 14 | Train Loss: 0.4668\n",
      "Epoch 15 | Train Loss: 0.4698\n",
      "Epoch 16 | Train Loss: 0.4649\n",
      "Epoch 17 | Train Loss: 0.4605\n",
      "Epoch 18 | Train Loss: 0.4352\n",
      "Epoch 19 | Train Loss: 0.4352\n",
      "Epoch 20 | Train Loss: 0.4271\n",
      "Epoch 21 | Train Loss: 0.4350\n",
      "Epoch 22 | Train Loss: 0.4401\n",
      "Epoch 23 | Train Loss: 0.5188\n",
      "Epoch 24 | Train Loss: 0.4752\n",
      "Epoch 25 | Train Loss: 0.4495\n",
      "Epoch 26 | Train Loss: 0.4409\n",
      "Epoch 27 | Train Loss: 0.4365\n",
      "Epoch 28 | Train Loss: 0.4268\n",
      "Epoch 29 | Train Loss: 0.4169\n",
      "Epoch 30 | Train Loss: 0.4188\n"
     ]
    },
    {
     "data": {
      "image/png": "[encoded data removed]",
      "text/plain": [
       "<Figure size 640x480 with 1 Axes>"
      ]
     },
     "metadata": {},
     "output_type": "display_data"
    },
    {
     "name": "stdout",
     "output_type": "stream",
     "text": [
      "\n",
      "--- Test Evaluation ---\n",
      "\n",
      "Accuracy: 0.5254 | Precision: 0.5283 | Recall: 0.6000 | F1 Score: 0.5619\n"
     ]
    }
   ],
   "source": [
    "def main():\n",
    "    # Load CSVs (update paths if needed)\n",
    "    train_df = pd.read_csv(\"D:/vulnerability_dataset_processed.csv\")\n",
    "    val_df = pd.read_csv(\"D:/Validation_Dataset.csv\")\n",
    "    test_df = pd.read_csv(\"D:/Test_dataset.csv\")\n",
    "\n",
    "    # Build vocab from train only\n",
    "    vocab = build_vocab(train_df['code'])\n",
    "\n",
    "    # Dataset and DataLoader\n",
    "    train_data = CodeDataset(train_df, vocab)\n",
    "    val_data = CodeDataset(val_df, vocab)\n",
    "    test_data = CodeDataset(test_df, vocab)\n",
    "\n",
    "    train_loader = DataLoader(train_data, batch_size=32, shuffle=True, collate_fn=pad_collate)\n",
    "    val_loader = DataLoader(val_data, batch_size=32, shuffle=False, collate_fn=pad_collate)\n",
    "    test_loader = DataLoader(test_data, batch_size=32, shuffle=False, collate_fn=pad_collate)\n",
    "\n",
    "    # Model\n",
    "    model = RNNClassifier(vocab_size=len(vocab))\n",
    "\n",
    "    # Train\n",
    "    train_model(model, train_loader, val_loader)\n",
    "    # Evaluate\n",
    "    print(\"\\n--- Test Evaluation ---\")\n",
    "    evaluate_model(model, test_loader)\n",
    "\n",
    "if __name__ == \"__main__\":\n",
    "    main()\n"
   ]
  },
  {
   "cell_type": "code",
   "execution_count": null,
   "id": "63bc8f8d",
   "metadata": {},
   "outputs": [],
   "source": []
  }
 ],
 "metadata": {
  "kernelspec": {
   "display_name": "Python 3 (ipykernel)",
   "language": "python",
   "name": "python3"
  },
  "language_info": {
   "codemirror_mode": {
    "name": "ipython",
    "version": 3
   },
   "file_extension": ".py",
   "mimetype": "text/x-python",
   "name": "python",
   "nbconvert_exporter": "python",
   "pygments_lexer": "ipython3",
   "version": "3.10.9"
  }
 },
 "nbformat": 4,
 "nbformat_minor": 5
}
